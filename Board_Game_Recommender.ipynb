{
  "nbformat": 4,
  "nbformat_minor": 0,
  "metadata": {
    "colab": {
      "provenance": []
    },
    "kernelspec": {
      "name": "python3",
      "display_name": "Python 3"
    },
    "language_info": {
      "name": "python"
    }
  },
  "cells": [
    {
      "cell_type": "code",
      "execution_count": null,
      "metadata": {
        "id": "AjijI1w74qzz"
      },
      "outputs": [],
      "source": [
        "from google.colab import drive\n",
        "drive.mount('/gdrive/')\n",
        "!cp -a \"/gdrive/My Drive/258_Project_Files/.\" \"/content/\""
      ]
    },
    {
      "cell_type": "code",
      "source": [
        "#!pip3 install surprise"
      ],
      "metadata": {
        "colab": {
          "base_uri": "https://localhost:8080/"
        },
        "id": "Hpf1mbrl6D13",
        "outputId": "1a67085e-3c5b-4c7a-93cc-b138b86dabae"
      },
      "execution_count": null,
      "outputs": [
        {
          "output_type": "stream",
          "name": "stdout",
          "text": [
            "Looking in indexes: https://pypi.org/simple, https://us-python.pkg.dev/colab-wheels/public/simple/\n",
            "Collecting surprise\n",
            "  Downloading surprise-0.1-py2.py3-none-any.whl (1.8 kB)\n",
            "Collecting scikit-surprise\n",
            "  Downloading scikit-surprise-1.1.1.tar.gz (11.8 MB)\n",
            "\u001b[K     |████████████████████████████████| 11.8 MB 5.5 MB/s \n",
            "\u001b[?25hRequirement already satisfied: joblib>=0.11 in /usr/local/lib/python3.7/dist-packages (from scikit-surprise->surprise) (1.2.0)\n",
            "Requirement already satisfied: numpy>=1.11.2 in /usr/local/lib/python3.7/dist-packages (from scikit-surprise->surprise) (1.21.6)\n",
            "Requirement already satisfied: scipy>=1.0.0 in /usr/local/lib/python3.7/dist-packages (from scikit-surprise->surprise) (1.7.3)\n",
            "Requirement already satisfied: six>=1.10.0 in /usr/local/lib/python3.7/dist-packages (from scikit-surprise->surprise) (1.15.0)\n",
            "Building wheels for collected packages: scikit-surprise\n",
            "  Building wheel for scikit-surprise (setup.py) ... \u001b[?25l\u001b[?25hdone\n",
            "  Created wheel for scikit-surprise: filename=scikit_surprise-1.1.1-cp37-cp37m-linux_x86_64.whl size=1633961 sha256=bb81ba99fff07ccdfe0caefd83e8f8ec1f0b8ffbd59978eb01efe1bc8e21efd4\n",
            "  Stored in directory: /root/.cache/pip/wheels/76/44/74/b498c42be47b2406bd27994e16c5188e337c657025ab400c1c\n",
            "Successfully built scikit-surprise\n",
            "Installing collected packages: scikit-surprise, surprise\n",
            "Successfully installed scikit-surprise-1.1.1 surprise-0.1\n"
          ]
        }
      ]
    },
    {
      "cell_type": "code",
      "source": [
        "import csv\n",
        "import random\n",
        "from collections import defaultdict\n",
        "import numpy as np\n",
        "from matplotlib import pyplot as plt\n",
        "from sklearn import linear_model\n",
        "from sklearn.model_selection import train_test_split\n",
        "from xgboost import XGBRegressor\n",
        "import scipy\n",
        "#from surprise import SVD, Reader, Dataset\n",
        "#from surprise.model_selection import train_test_split"
      ],
      "metadata": {
        "id": "0T46hoX_Dr6e"
      },
      "execution_count": null,
      "outputs": []
    },
    {
      "cell_type": "code",
      "source": [
        "def parse_csv(path):\n",
        "  f = open(path, 'rt')\n",
        "  dataset = []\n",
        "  r = csv.reader(f)\n",
        "  for row in r:\n",
        "    dataset.append(row)\n",
        "  dataset = dataset[1:]\n",
        "  return dataset\n",
        "\n",
        "def mse(y, y_pred):\n",
        "  return np.mean((np.array(y) - np.array(y_pred))**2)"
      ],
      "metadata": {
        "id": "H6M6o9sxDmNL"
      },
      "execution_count": null,
      "outputs": []
    },
    {
      "cell_type": "code",
      "source": [
        "dataset = parse_csv(\"/content/user_ratings.csv\")"
      ],
      "metadata": {
        "id": "0j-kIsfADpgV"
      },
      "execution_count": null,
      "outputs": []
    },
    {
      "cell_type": "code",
      "source": [
        "dataset_np = np.array(dataset)"
      ],
      "metadata": {
        "id": "tabT0yJfOci4"
      },
      "execution_count": null,
      "outputs": []
    },
    {
      "cell_type": "code",
      "source": [
        "print(dataset_np[:,1].shape)"
      ],
      "metadata": {
        "colab": {
          "base_uri": "https://localhost:8080/"
        },
        "id": "LsKV0VRYPSfF",
        "outputId": "5c2c1ad4-9f18-482a-be1b-f76cdb51fdff"
      },
      "execution_count": null,
      "outputs": [
        {
          "output_type": "stream",
          "name": "stdout",
          "text": [
            "(18942215,)\n"
          ]
        }
      ]
    },
    {
      "cell_type": "code",
      "source": [
        "ratings = np.array(dataset_np[:,1], dtype=float)\n",
        "print(ratings[:10])\n",
        "ratings_mean = np.mean(ratings)\n",
        "ratings_std = np.std(ratings)\n",
        "print(ratings_mean)\n",
        "print(ratings_std)"
      ],
      "metadata": {
        "colab": {
          "base_uri": "https://localhost:8080/"
        },
        "id": "OyCYY3NlOtpU",
        "outputId": "571e3036-8189-43bc-d6c7-9db473c561b3"
      },
      "execution_count": null,
      "outputs": [
        {
          "output_type": "stream",
          "name": "stdout",
          "text": [
            "[8. 8. 8. 8. 8. 8. 8. 8. 8. 8.]\n",
            "7.130957150327989\n",
            "1.5430227714116684\n"
          ]
        }
      ]
    },
    {
      "cell_type": "code",
      "source": [
        "print(dataset[0])"
      ],
      "metadata": {
        "colab": {
          "base_uri": "https://localhost:8080/"
        },
        "id": "36ks6jiqD3FB",
        "outputId": "e4dda85c-6ed4-44dd-9890-b82197496e89"
      },
      "execution_count": null,
      "outputs": [
        {
          "output_type": "stream",
          "name": "stdout",
          "text": [
            "['213788', '8.0', 'Tonydorrf']\n"
          ]
        }
      ]
    },
    {
      "cell_type": "code",
      "source": [
        "random.shuffle(dataset)"
      ],
      "metadata": {
        "id": "A9W8SuJND4hB"
      },
      "execution_count": null,
      "outputs": []
    },
    {
      "cell_type": "code",
      "source": [
        "# entries are [gameID, rating, username]\n",
        "trainset = dataset[:200000]\n",
        "testset = dataset[200000:400000]"
      ],
      "metadata": {
        "id": "-54575mRWVCm"
      },
      "execution_count": null,
      "outputs": []
    },
    {
      "cell_type": "code",
      "source": [
        "id_counts_train = defaultdict(int)\n",
        "for id, rating, username in trainset:\n",
        "  id_counts_train[id] += 1\n",
        "\n",
        "id_counts_all = defaultdict(int)\n",
        "user_counts_all = defaultdict(int)\n",
        "for id, rating, username in dataset:\n",
        "  id_counts_all[id] += 1\n",
        "  user_counts_all[username] += 1"
      ],
      "metadata": {
        "id": "wPqGYrGOW3yy"
      },
      "execution_count": null,
      "outputs": []
    },
    {
      "cell_type": "code",
      "source": [
        "total = 0\n",
        "min_count = np.inf\n",
        "max_count = -np.inf\n",
        "for id in id_counts_train:\n",
        "  count = id_counts_train[id]\n",
        "  total += count\n",
        "  if count < min_count:\n",
        "    min_count = count\n",
        "  if count > max_count:\n",
        "    max_count = count"
      ],
      "metadata": {
        "id": "iSblFOOaYRgk"
      },
      "execution_count": null,
      "outputs": []
    },
    {
      "cell_type": "code",
      "source": [
        "avg_count = total / len(id_counts_all)\n",
        "print(avg_count)\n",
        "print(min_count)\n",
        "print(max_count)"
      ],
      "metadata": {
        "colab": {
          "base_uri": "https://localhost:8080/"
        },
        "id": "ds7lcSpHYOJ4",
        "outputId": "c8f9dedc-71f1-4bc0-9320-d577fa867f4d"
      },
      "execution_count": null,
      "outputs": [
        {
          "output_type": "stream",
          "name": "stdout",
          "text": [
            "9.122006841505131\n",
            "1\n",
            "1146\n"
          ]
        }
      ]
    },
    {
      "cell_type": "code",
      "source": [
        "num_less_than_10 = 0\n",
        "for id in id_counts_all:\n",
        "  if id_counts_all[id] < 2:\n",
        "    num_less_than_10 += 1\n",
        "print(num_less_than_10)"
      ],
      "metadata": {
        "colab": {
          "base_uri": "https://localhost:8080/"
        },
        "id": "9RjnUaLPeB1C",
        "outputId": "0a470941-7b91-42be-fb2e-c9eed540b685"
      },
      "execution_count": null,
      "outputs": [
        {
          "output_type": "stream",
          "name": "stdout",
          "text": [
            "0\n"
          ]
        }
      ]
    },
    {
      "cell_type": "code",
      "source": [
        "num_less_than_10 = 0\n",
        "for user in user_counts_all:\n",
        "  if user_counts_all[user] < 10:\n",
        "    num_less_than_10 += 1\n",
        "print(num_less_than_10)"
      ],
      "metadata": {
        "colab": {
          "base_uri": "https://localhost:8080/"
        },
        "id": "_FLTVHU0faHd",
        "outputId": "919cbfc5-3ef5-42cd-cbd8-4574886553de"
      },
      "execution_count": null,
      "outputs": [
        {
          "output_type": "stream",
          "name": "stdout",
          "text": [
            "186770\n"
          ]
        }
      ]
    },
    {
      "cell_type": "code",
      "source": [
        "mechanics = parse_csv(\"/content/mechanics.csv\")\n",
        "mechanics = np.array(mechanics, dtype=int)[:,1:]"
      ],
      "metadata": {
        "id": "t6LTc-qEf8zA"
      },
      "execution_count": null,
      "outputs": []
    },
    {
      "cell_type": "code",
      "source": [
        "print(mechanics.shape)\n",
        "print(mechanics[0])"
      ],
      "metadata": {
        "colab": {
          "base_uri": "https://localhost:8080/"
        },
        "id": "j91g3p_wSS1Q",
        "outputId": "56d62e24-4a2e-498b-d93a-bdf239b2f1f1"
      },
      "execution_count": null,
      "outputs": [
        {
          "output_type": "stream",
          "name": "stdout",
          "text": [
            "(21925, 157)\n",
            "[1 1 1 1 1 1 0 0 0 0 0 0 0 0 0 0 0 0 0 0 0 0 0 0 1 0 0 0 0 0 0 0 0 0 0 0 0\n",
            " 0 0 0 0 0 0 0 0 0 0 0 0 0 0 0 0 0 0 0 0 0 0 0 0 0 0 0 0 0 0 0 0 0 0 0 0 0\n",
            " 0 0 0 0 0 0 0 0 0 0 0 0 0 0 0 0 0 0 0 0 0 0 0 0 0 0 0 0 0 0 0 0 0 0 0 0 0\n",
            " 0 0 0 0 0 0 0 0 0 0 0 0 0 0 0 0 0 0 0 0 0 0 0 0 0 0 0 0 0 0 0 0 0 0 0 0 0\n",
            " 0 0 0 0 0 0 0 0 0]\n"
          ]
        }
      ]
    },
    {
      "cell_type": "code",
      "source": [
        "mechanic_counts = np.sum(mechanics, axis=0)\n",
        "print(mechanic_counts)"
      ],
      "metadata": {
        "colab": {
          "base_uri": "https://localhost:8080/"
        },
        "id": "sWvO8CSjR4p3",
        "outputId": "f95f79f8-c14c-43e7-90d3-2f34a8e5eada"
      },
      "execution_count": null,
      "outputs": [
        {
          "output_type": "stream",
          "name": "stdout",
          "text": [
            "[  37 1639 1157 6486 4496 1184  402 2438   41 2959 1832 1183   33   79\n",
            "  228  308   71  218  833  560 1716  588  941   30  687  637  937   98\n",
            "  248   26  365 1371 2736  423   50 1643   23   39  502  469  337  559\n",
            "  732  547  514 2134  315 1202  259 1572 1199   41   62   25 1548 1015\n",
            "   26   53   53  593   41  308 1142 1036  561   58   32  264   56   44\n",
            "   35   36   18  600   21   41   23   29   95  164   30   10   26   10\n",
            "   31   43   15  973  276   50   25  276   19  180  107  849   98   35\n",
            "  803   30   37   47   15   81   92   49 2015  175   16   41   30   22\n",
            "   24   27   53   13   46   99   36   45   38   17  501   35   32   85\n",
            "   16   56  123   99   29   14   67   11   24   17  787   43   28   29\n",
            "   10   17   40   19   44   24    9  137    5   19   62   15   64   16\n",
            "   32 1105  459]\n"
          ]
        }
      ]
    },
    {
      "cell_type": "code",
      "source": [
        "plt.bar(range(len(mechanic_counts)), mechanic_counts)\n",
        "plt.title('Mechanic Counts')\n",
        "plt.show()"
      ],
      "metadata": {
        "colab": {
          "base_uri": "https://localhost:8080/",
          "height": 281
        },
        "id": "VFlrTPphS-uC",
        "outputId": "0e011303-e77e-4558-9002-490908837fd3"
      },
      "execution_count": null,
      "outputs": [
        {
          "output_type": "display_data",
          "data": {
            "text/plain": [
              "<Figure size 432x288 with 1 Axes>"
            ],
            "image/png": "[encoded data removed]"
          },
          "metadata": {
            "needs_background": "light"
          }
        }
      ]
    },
    {
      "cell_type": "code",
      "source": [
        "print(np.argpartition(mechanic_counts, -3)[-3:])"
      ],
      "metadata": {
        "colab": {
          "base_uri": "https://localhost:8080/"
        },
        "id": "Ubl9emhFXqSW",
        "outputId": "be9f8339-0a3a-4e19-e8f7-b2dfd28f1eab"
      },
      "execution_count": null,
      "outputs": [
        {
          "output_type": "stream",
          "name": "stdout",
          "text": [
            "[9 4 3]\n"
          ]
        }
      ]
    },
    {
      "cell_type": "code",
      "source": [
        "games = parse_csv(\"/content/games.csv\")"
      ],
      "metadata": {
        "id": "kkMxAlh_Zz2j"
      },
      "execution_count": null,
      "outputs": []
    },
    {
      "cell_type": "code",
      "source": [
        "print(games[0][2])"
      ],
      "metadata": {
        "colab": {
          "base_uri": "https://localhost:8080/"
        },
        "id": "9Xw6hhLPe_gf",
        "outputId": "cb8838b9-9be1-4bf5-fb17-b00886466f40"
      },
      "execution_count": null,
      "outputs": [
        {
          "output_type": "stream",
          "name": "stdout",
          "text": [
            "die macher game seven sequential political race different region germany player charge national political party manage limited resource help party victory win party victory point regional election different way score victory point regional election supply eighty victory point depend size region party second party win regional election medium influence region party receive mediacontrol victory point party national party membership grow game progress supply fair number victory point lastly party score victory point party platform match national opinion end gamethe   edition feature party old west germany support   player   edition support player reunite germany update feature rule     edition support player add short fiveround variant additional rule update original designer\n"
          ]
        }
      ]
    },
    {
      "cell_type": "code",
      "source": [
        "desc_lens = [len(row[2].split()) for row in games]"
      ],
      "metadata": {
        "id": "46UPdR4xeh0n"
      },
      "execution_count": null,
      "outputs": []
    },
    {
      "cell_type": "code",
      "source": [
        "print(len(desc_lens))"
      ],
      "metadata": {
        "colab": {
          "base_uri": "https://localhost:8080/"
        },
        "id": "RSbdmkKifcGQ",
        "outputId": "280c30dc-8afc-4306-d94e-c14e738757d0"
      },
      "execution_count": null,
      "outputs": [
        {
          "output_type": "stream",
          "name": "stdout",
          "text": [
            "[107, 77, 88, 48, 362]\n"
          ]
        }
      ]
    },
    {
      "cell_type": "code",
      "source": [
        "plt.bar(range(1,101), desc_lens[:100])\n",
        "plt.title('Description Lengths')\n",
        "plt.show()"
      ],
      "metadata": {
        "colab": {
          "base_uri": "https://localhost:8080/",
          "height": 281
        },
        "id": "0INY2348fd9D",
        "outputId": "4524c25c-cadb-4f6e-9d4d-5c70ca6068e4"
      },
      "execution_count": null,
      "outputs": [
        {
          "output_type": "display_data",
          "data": {
            "text/plain": [
              "<Figure size 432x288 with 1 Axes>"
            ],
            "image/png": "[encoded data removed]"
          },
          "metadata": {
            "needs_background": "light"
          }
        }
      ]
    },
    {
      "cell_type": "code",
      "source": [
        "print(max(desc_lens))\n",
        "print(min([length for length in desc_lens if length != 0]))\n",
        "print(len([length for length in desc_lens if length == 0]))"
      ],
      "metadata": {
        "colab": {
          "base_uri": "https://localhost:8080/"
        },
        "id": "ILHjBYAYgSFS",
        "outputId": "788c0c44-180e-4eef-8cea-e8d2d75b26e2"
      },
      "execution_count": null,
      "outputs": [
        {
          "output_type": "stream",
          "name": "stdout",
          "text": [
            "1263\n",
            "3\n",
            "1\n"
          ]
        }
      ]
    },
    {
      "cell_type": "code",
      "source": [
        "dates = [int(row[3]) for row in games]\n",
        "dates = np.array(dates)\n",
        "min_date = np.min(dates)\n",
        "max_date = np.max(dates)\n",
        "print(min_date)\n",
        "print(max_date)\n",
        "bin_edges = [-3500, 1900, 1970, 1980, 1990, 1995, 2000, 2005, 2010, 2015, 2020, 2025]\n",
        "hist, edges = np.histogram(dates, bins=bin_edges)\n",
        "print(hist)\n",
        "L = [\"<1900\", \"1900-1970\", \"1970-1980\", \"1980-1990\", \"1990-1995\", \"1995-2000\", \"2000-2005\", \"2005-2010\", \"2010-2015\", \"2015-2020\", \"2020<\"]\n",
        "fig, ax = plt.subplots()\n",
        "ax.barh(range(len(hist)), hist)\n",
        "ax.set_title(\"Histogram of publishing dates\")\n",
        "ax.set_yticks(range(len(hist)))\n",
        "ax.set_yticklabels(labels = L)\n",
        "plt.show()"
      ],
      "metadata": {
        "colab": {
          "base_uri": "https://localhost:8080/",
          "height": 335
        },
        "id": "XcpOjvlqyZOc",
        "outputId": "ccfc649b-5af1-49f0-cf00-7ad794f2fc1d"
      },
      "execution_count": null,
      "outputs": [
        {
          "output_type": "stream",
          "name": "stdout",
          "text": [
            "-3500\n",
            "2021\n",
            "[ 309  352  817 1336  902 1188 1859 2854 4206 6515 1587]\n"
          ]
        },
        {
          "output_type": "display_data",
          "data": {
            "text/plain": [
              "<Figure size 432x288 with 1 Axes>"
            ],
            "image/png": "[encoded data removed]"
          },
          "metadata": {
            "needs_background": "light"
          }
        }
      ]
    },
    {
      "cell_type": "code",
      "source": [
        "interactions = parse_csv(\"/content/user_ratings.csv\")\n",
        "random.shuffle(interactions)"
      ],
      "metadata": {
        "id": "_fxnpRa5Iw7s"
      },
      "execution_count": null,
      "outputs": []
    },
    {
      "cell_type": "code",
      "source": [
        "trainset = interactions[:400000]"
      ],
      "metadata": {
        "id": "6zGQrM-oeIch"
      },
      "execution_count": null,
      "outputs": []
    },
    {
      "cell_type": "code",
      "source": [
        "print(trainset[0])"
      ],
      "metadata": {
        "colab": {
          "base_uri": "https://localhost:8080/"
        },
        "id": "NLxx12tePU4h",
        "outputId": "c98eefad-44cf-4995-f61c-651ba14041c0"
      },
      "execution_count": null,
      "outputs": [
        {
          "output_type": "stream",
          "name": "stdout",
          "text": [
            "['246784', '7.0', 'ReadingDude']\n"
          ]
        }
      ]
    },
    {
      "cell_type": "code",
      "source": [
        "bggid_to_idx = {}\n",
        "for i in range(len(games)):\n",
        "  bggid_to_idx[games[i][0]] = i"
      ],
      "metadata": {
        "id": "rMNExAIXA2xr"
      },
      "execution_count": null,
      "outputs": []
    },
    {
      "cell_type": "code",
      "source": [
        "# predict avg\n",
        "y_pred = [float(games[bggid_to_idx[bggid]][5]) for bggid, _, _ in trainset]\n",
        "y = [float(rating) for _,rating,_ in trainset]\n",
        "print(mse(y_pred, y))"
      ],
      "metadata": {
        "colab": {
          "base_uri": "https://localhost:8080/"
        },
        "id": "lHkVK6lqDaWr",
        "outputId": "758dee69-88f6-4829-89f0-92c7fb4ff27e"
      },
      "execution_count": null,
      "outputs": [
        {
          "output_type": "stream",
          "name": "stdout",
          "text": [
            "1.7694799206232408\n"
          ]
        }
      ]
    },
    {
      "cell_type": "code",
      "source": [
        "def G(bggid):\n",
        "  return games[bggid_to_idx[bggid]]"
      ],
      "metadata": {
        "id": "rWyIIdskmkUW"
      },
      "execution_count": null,
      "outputs": []
    },
    {
      "cell_type": "code",
      "source": [
        "mechanics = parse_csv(\"/content/mechanics.csv\")\n",
        "mechanics = np.array(mechanics, dtype=int)[:,1:]"
      ],
      "metadata": {
        "id": "rVqkne3qn9GW"
      },
      "execution_count": null,
      "outputs": []
    },
    {
      "cell_type": "code",
      "source": [
        "def mechanics_jaccard(mec1, mec2):\n",
        "  return (np.array(mec1) == np.array(mec2)).sum() / len(mec1)"
      ],
      "metadata": {
        "id": "kxfA2AZwpQhi"
      },
      "execution_count": null,
      "outputs": []
    },
    {
      "cell_type": "code",
      "source": [
        "def M(bggid):\n",
        "  return mechanics[bggid_to_idx[bggid]]"
      ],
      "metadata": {
        "id": "cPbA2VCXp7V7"
      },
      "execution_count": null,
      "outputs": []
    },
    {
      "cell_type": "code",
      "source": [
        "ratingsPerUser = defaultdict(list)\n",
        "for bggid, rating, user in trainset:\n",
        "  ratingsPerUser[user].append([bggid, rating])\n",
        "\n",
        "i = 0\n",
        "for bggid, rating, user in trainset:\n",
        "  if len(ratingsPerUser[user]) == 1:\n",
        "    i += 1\n",
        "\n",
        "print('Users with 1 rating:', i)\n",
        "print('Number of Users:', len(ratingsPerUser))\n",
        "print('Number of interactions:', len(trainset))\n",
        "\n",
        "trainset_tuples = [(bggid, rating, user) for [bggid, rating, user] in trainset]\n",
        "trainset_set = set(trainset_tuples)\n",
        "for bggid, rating, user in trainset:\n",
        "  if len(ratingsPerUser[user]) == 1:\n",
        "    trainset_set.remove((bggid, rating, user))\n",
        "trainset = list(trainset_set)\n",
        "trainset = [[bggid, rating, user] for (bggid, rating, user) in trainset]\n",
        "print('Number of interactions:', len(trainset))"
      ],
      "metadata": {
        "colab": {
          "base_uri": "https://localhost:8080/",
          "height": 240
        },
        "id": "b8W-TkiChrjE",
        "outputId": "0b637bba-9720-4066-c59a-d687f2a0762f"
      },
      "execution_count": null,
      "outputs": [
        {
          "output_type": "error",
          "ename": "KeyboardInterrupt",
          "evalue": "ignored",
          "traceback": [
            "\u001b[0;31m---------------------------------------------------------------------------\u001b[0m",
            "\u001b[0;31mKeyboardInterrupt\u001b[0m                         Traceback (most recent call last)",
            "\u001b[0;32m<ipython-input-13-cf6329e260ee>\u001b[0m in \u001b[0;36m<module>\u001b[0;34m\u001b[0m\n\u001b[1;32m      1\u001b[0m \u001b[0mratingsPerUser\u001b[0m \u001b[0;34m=\u001b[0m \u001b[0mdefaultdict\u001b[0m\u001b[0;34m(\u001b[0m\u001b[0mlist\u001b[0m\u001b[0;34m)\u001b[0m\u001b[0;34m\u001b[0m\u001b[0;34m\u001b[0m\u001b[0m\n\u001b[1;32m      2\u001b[0m \u001b[0;32mfor\u001b[0m \u001b[0mbggid\u001b[0m\u001b[0;34m,\u001b[0m \u001b[0mrating\u001b[0m\u001b[0;34m,\u001b[0m \u001b[0muser\u001b[0m \u001b[0;32min\u001b[0m \u001b[0mtrainset\u001b[0m\u001b[0;34m:\u001b[0m\u001b[0;34m\u001b[0m\u001b[0;34m\u001b[0m\u001b[0m\n\u001b[0;32m----> 3\u001b[0;31m   \u001b[0mratingsPerUser\u001b[0m\u001b[0;34m[\u001b[0m\u001b[0muser\u001b[0m\u001b[0;34m]\u001b[0m\u001b[0;34m.\u001b[0m\u001b[0mappend\u001b[0m\u001b[0;34m(\u001b[0m\u001b[0;34m[\u001b[0m\u001b[0mbggid\u001b[0m\u001b[0;34m,\u001b[0m \u001b[0mrating\u001b[0m\u001b[0;34m]\u001b[0m\u001b[0;34m)\u001b[0m\u001b[0;34m\u001b[0m\u001b[0;34m\u001b[0m\u001b[0m\n\u001b[0m\u001b[1;32m      4\u001b[0m \u001b[0;34m\u001b[0m\u001b[0m\n\u001b[1;32m      5\u001b[0m \u001b[0mi\u001b[0m \u001b[0;34m=\u001b[0m \u001b[0;36m0\u001b[0m\u001b[0;34m\u001b[0m\u001b[0;34m\u001b[0m\u001b[0m\n",
            "\u001b[0;31mKeyboardInterrupt\u001b[0m: "
          ]
        }
      ]
    },
    {
      "cell_type": "code",
      "source": [
        "def getFeaturesFromInteraction(bggid, user):\n",
        "  # weighted top and bottom mechanical similarities\n",
        "  ratings = ratingsPerUser[user]\n",
        "  # remove current interaction from ratings so we don't use true rating as a feature\n",
        "  ratings_dict = dict(ratings)\n",
        "  ratings_dict.pop(bggid)\n",
        "  ratings = list(tuple(ratings_dict.items()))\n",
        "\n",
        "  if len(ratings) == 0:\n",
        "    #print('error not enough ratings')\n",
        "    return [0,0,0,0,0]\n",
        "\n",
        "  feature = []\n",
        "  # weighted average complexity\n",
        "  feature.append(np.mean([float(rating)*float(G(bggid)[4]) for bggid, rating in ratings]))\n",
        "  # weighted average player count\n",
        "  feature.append(np.mean([float(rating)*float(G(bggid)[12]) for bggid, rating in ratings]))\n",
        "\n",
        "  mec1 = M(bggid)\n",
        "  simList = [[mechanics_jaccard(mec1, M(bggid2)), rating] for bggid2, rating in ratings]\n",
        "  maxSim = max(simList)\n",
        "  minSim = min(simList)\n",
        "  feature.append(maxSim[0]*float(maxSim[1]))\n",
        "  feature.append(minSim[0]*float(minSim[1]))\n",
        "  feature.append(1)\n",
        "\n",
        "  return feature"
      ],
      "metadata": {
        "id": "gYJOEKRMld6v"
      },
      "execution_count": null,
      "outputs": []
    },
    {
      "cell_type": "code",
      "source": [
        "features = [[G(bggid)[4], G(bggid)[5], G(bggid)[12], G(bggid)[14]] + \\\n",
        "            getFeaturesFromInteraction(bggid, user) for bggid, _, user in trainset]\n",
        "labels = [float(rating) for _, rating, _ in trainset]\n",
        "\n",
        "features = np.array(features, dtype=float)\n",
        "labels = np.array(labels, dtype=float)\n",
        "\n",
        "X_train, X_test, y_train, y_test = train_test_split(features, labels, test_size=0.10, random_state=42)"
      ],
      "metadata": {
        "id": "4L5tSLdXDeUo"
      },
      "execution_count": null,
      "outputs": []
    },
    {
      "cell_type": "code",
      "source": [
        "lin_mod = linear_model.LinearRegression().fit(X_train, y_train)\n",
        "pred = lin_mod.predict(X_test)\n",
        "pred = np.clip(pred, 1, 10)\n",
        "print(mse(pred, y_test))"
      ],
      "metadata": {
        "id": "v8Zcd8PdHHUP"
      },
      "execution_count": null,
      "outputs": []
    },
    {
      "cell_type": "code",
      "source": [
        "def train_xgb_report_mse(lam):\n",
        "  xgb_mod = XGBRegressor(reg_lambda = lam, objective='reg:squarederror').fit(X_train, y_train)\n",
        "  pred = xgb_mod.predict(X_test)\n",
        "  pred = np.clip(pred, 1, 10)\n",
        "  print(lam, mse(pred, y_test))"
      ],
      "metadata": {
        "id": "e1Mdpauw0l5X"
      },
      "execution_count": null,
      "outputs": []
    },
    {
      "cell_type": "code",
      "source": [
        "#reader = Reader(line_format='item rating user', sep=',', skip_lines=1, rating_scale = (1,10))\n",
        "#data = Dataset.load_from_file(\"user_ratings.csv\", reader=reader)"
      ],
      "metadata": {
        "id": "xOJsI1gt6A6m"
      },
      "execution_count": null,
      "outputs": []
    },
    {
      "cell_type": "code",
      "source": [
        "'''\n",
        "svd_mses = []\n",
        "for trainsize in [200000, 400000, 600000, 800000, 1000000]:\n",
        "  sur_trainset, sur_testset = train_test_split(data, test_size=(int)(.1*trainsize), train_size=trainsize)\n",
        "  model = SVD(n_factors = 1, n_epochs = 20)\n",
        "  model.fit(sur_trainset)\n",
        "  predictions = model.test(sur_testset)\n",
        "\n",
        "  sse = 0\n",
        "  for p in predictions:\n",
        "      sse += (p.r_ui - p.est)**2\n",
        "\n",
        "  mse = sse / len(predictions)\n",
        "  svd_mses.append(mse)\n",
        "\n",
        "print(svd_mses)\n",
        "'''\n",
        "svd_mses = [1.8104595958356076, 1.6626494150973923, 1.642859755026103, 1.622981409687246, 1.5782401269353283]"
      ],
      "metadata": {
        "id": "gjoNM5Kv7sws"
      },
      "execution_count": null,
      "outputs": []
    },
    {
      "cell_type": "code",
      "source": [
        "avg_mses, lin_mses, xgb_mses = [],[],[]\n",
        "for trainsize in [200000, 400000, 600000, 800000, 1000000]:\n",
        "  trainset = interactions[:trainsize]\n",
        "  ratingsPerUser = defaultdict(list)\n",
        "  for bggid, rating, user in trainset:\n",
        "    ratingsPerUser[user].append([bggid, rating])\n",
        "\n",
        "  y_pred = [float(games[bggid_to_idx[bggid]][5]) for bggid, _, _ in trainset]\n",
        "  y = [float(rating) for _,rating,_ in trainset]\n",
        "  avg_mses.append(mse(y_pred, y))\n",
        "\n",
        "  features = [[G(bggid)[4], G(bggid)[5], G(bggid)[12], G(bggid)[14]] + \\\n",
        "            getFeaturesFromInteraction(bggid, user) for bggid, _, user in trainset]\n",
        "  labels = [float(rating) for _, rating, _ in trainset]\n",
        "\n",
        "  features = np.array(features, dtype=float)\n",
        "  labels = np.array(labels, dtype=float)\n",
        "\n",
        "  X_train, X_test, y_train, y_test = train_test_split(features, labels, test_size=0.10)\n",
        "\n",
        "  lin_mod = linear_model.LinearRegression().fit(X_train, y_train)\n",
        "  pred = lin_mod.predict(X_test)\n",
        "  pred = np.clip(pred, 1, 10)\n",
        "  lin_mses.append(mse(pred, y_test))\n",
        "\n",
        "  xgb_mod = XGBRegressor(objective='reg:squarederror').fit(X_train, y_train)\n",
        "  pred = xgb_mod.predict(X_test)\n",
        "  pred = np.clip(pred, 1, 10)\n",
        "  xgb_mses.append(mse(pred, y_test))\n",
        "\n",
        "  print(avg_mses)\n",
        "  print(lin_mses)\n",
        "  print(xgb_mses)\n",
        "  print()"
      ],
      "metadata": {
        "colab": {
          "base_uri": "https://localhost:8080/"
        },
        "id": "XJEIsLBX2FDT",
        "outputId": "76c70652-f413-4126-8649-9131dac8d20c"
      },
      "execution_count": null,
      "outputs": [
        {
          "output_type": "stream",
          "name": "stdout",
          "text": [
            "[1.763216747514211]\n",
            "[1.6954672426383317]\n",
            "[1.680892334686732]\n",
            "\n",
            "[1.763216747514211, 1.765331285834215]\n",
            "[1.6954672426383317, 1.649337445836223]\n",
            "[1.680892334686732, 1.6334383016243987]\n",
            "\n",
            "[1.763216747514211, 1.765331285834215, 1.7647018610936402]\n",
            "[1.6954672426383317, 1.649337445836223, 1.6594525851792459]\n",
            "[1.680892334686732, 1.6334383016243987, 1.6379104244943907]\n",
            "\n",
            "[1.763216747514211, 1.765331285834215, 1.7647018610936402, 1.765392379936295]\n",
            "[1.6954672426383317, 1.649337445836223, 1.6594525851792459, 1.6521102681501587]\n",
            "[1.680892334686732, 1.6334383016243987, 1.6379104244943907, 1.6276642645122474]\n",
            "\n",
            "[1.763216747514211, 1.765331285834215, 1.7647018610936402, 1.765392379936295, 1.7645738899582692]\n",
            "[1.6954672426383317, 1.649337445836223, 1.6594525851792459, 1.6521102681501587, 1.6346208708358154]\n",
            "[1.680892334686732, 1.6334383016243987, 1.6379104244943907, 1.6276642645122474, 1.6094661701639255]\n",
            "\n"
          ]
        }
      ]
    },
    {
      "cell_type": "code",
      "source": [
        "x = [200000, 400000, 600000, 800000, 1000000]\n",
        "plt.plot(x, avg_mses, label=\"predict average\")\n",
        "plt.plot(x, svd_mses, label=\"latent factors\")\n",
        "plt.plot(x, lin_mses, label=\"linear regressor\")\n",
        "plt.plot(x, xgb_mses, label=\"xgboost\")\n",
        "plt.legend()\n",
        "plt.xlabel(\"Millions of interactions\")\n",
        "plt.ylabel(\"Mean-squared error\")\n",
        "plt.show()"
      ],
      "metadata": {
        "colab": {
          "base_uri": "https://localhost:8080/",
          "height": 279
        },
        "id": "IRAXVJDGX9L9",
        "outputId": "b9f75963-31ec-4bc1-de85-185de1ae77a0"
      },
      "execution_count": null,
      "outputs": [
        {
          "output_type": "display_data",
          "data": {
            "text/plain": [
              "<Figure size 432x288 with 1 Axes>"
            ],
            "image/png": "[encoded data removed]"
          },
          "metadata": {
            "needs_background": "light"
          }
        }
      ]
    },
    {
      "cell_type": "code",
      "source": [
        "itemIDs = bggid_to_idx\n",
        "userIDs={}\n",
        "for d in interactions:\n",
        "  if not d[2] in userIDs: userIDs[d[2]] = len(userIDs)\n",
        "\n",
        "nUsers = len(userIDs)\n",
        "nItems = len(itemIDs)\n",
        "\n",
        "print(nUsers, nItems)"
      ],
      "metadata": {
        "id": "dNeJwQXaQLvI",
        "colab": {
          "base_uri": "https://localhost:8080/"
        },
        "outputId": "bed66e30-885a-4d5c-fab0-655a980263ce"
      },
      "execution_count": null,
      "outputs": [
        {
          "output_type": "stream",
          "name": "stdout",
          "text": [
            "411375 21925\n"
          ]
        }
      ]
    },
    {
      "cell_type": "code",
      "source": [
        "X = scipy.sparse.lil_matrix((len(trainset), nUsers + nItems))\n",
        "for i in range(len(trainset)):\n",
        "  bggid, rating, username = trainset[i]\n",
        "  user = userIDs[username]\n",
        "  item = itemIDs[bggid]\n",
        "  X[i,user] = 1\n",
        "  X[i,item + nUsers] = 1\n",
        "\n",
        "y = [float(rating) for _, rating, _ in trainset]"
      ],
      "metadata": {
        "id": "3a6amyA4TY7A"
      },
      "execution_count": null,
      "outputs": []
    },
    {
      "cell_type": "code",
      "source": [
        "X = []\n",
        "for i in range(len(trainset)):\n",
        "  bggid, rating, username = trainset[i]\n",
        "  user = userIDs[username]\n",
        "  item = itemIDs[bggid]\n",
        "  X.append([user, item])\n",
        "\n",
        "y = [float(rating) for _, rating, _ in trainset]"
      ],
      "metadata": {
        "id": "i0HFhy9yWJhz"
      },
      "execution_count": null,
      "outputs": []
    },
    {
      "cell_type": "code",
      "source": [
        "X_train, X_test, y_train, y_test = train_test_split(X, y, test_size=0.10, random_state=42)\n",
        "xgb_mod = XGBRegressor(objective='reg:squarederror').fit(X_train, y_train)\n",
        "print(mse(xgb_mod.predict(X_test), y_test))"
      ],
      "metadata": {
        "colab": {
          "base_uri": "https://localhost:8080/"
        },
        "id": "riOG0hYfU439",
        "outputId": "4d7acbbb-7f95-495a-f6bd-f3c0f4b695c5"
      },
      "execution_count": null,
      "outputs": [
        {
          "output_type": "stream",
          "name": "stdout",
          "text": [
            "2.1857676268673973\n"
          ]
        }
      ]
    },
    {
      "cell_type": "code",
      "source": [],
      "metadata": {
        "id": "B_bViCq3VfLZ"
      },
      "execution_count": null,
      "outputs": []
    }
  ]
}